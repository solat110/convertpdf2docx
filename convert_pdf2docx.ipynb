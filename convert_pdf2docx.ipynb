{
  "nbformat": 4,
  "nbformat_minor": 0,
  "metadata": {
    "colab": {
      "provenance": []
    },
    "kernelspec": {
      "name": "python3",
      "display_name": "Python 3"
    },
    "language_info": {
      "name": "python"
    }
  },
  "cells": [
    {
      "cell_type": "code",
      "source": [
        "pip install pdf2docx"
      ],
      "metadata": {
        "colab": {
          "base_uri": "https://localhost:8080/"
        },
        "id": "LZ6zFhpE1_be",
        "outputId": "8a5ae40c-ecd0-49da-e3a0-c8d9a7963504"
      },
      "execution_count": 2,
      "outputs": [
        {
          "output_type": "stream",
          "name": "stdout",
          "text": [
            "Looking in indexes: https://pypi.org/simple, https://us-python.pkg.dev/colab-wheels/public/simple/\n",
            "Collecting pdf2docx\n",
            "  Downloading pdf2docx-0.5.6-py3-none-any.whl (148 kB)\n",
            "\u001b[K     |████████████████████████████████| 148 kB 30.3 MB/s \n",
            "\u001b[?25hCollecting fire>=0.3.0\n",
            "  Downloading fire-0.5.0.tar.gz (88 kB)\n",
            "\u001b[K     |████████████████████████████████| 88 kB 8.3 MB/s \n",
            "\u001b[?25hCollecting fonttools>=4.24.0\n",
            "  Downloading fonttools-4.38.0-py3-none-any.whl (965 kB)\n",
            "\u001b[K     |████████████████████████████████| 965 kB 52.5 MB/s \n",
            "\u001b[?25hRequirement already satisfied: numpy>=1.17.2 in /usr/local/lib/python3.8/dist-packages (from pdf2docx) (1.21.6)\n",
            "Collecting PyMuPDF>=1.19.0\n",
            "  Downloading PyMuPDF-1.21.1-cp38-cp38-manylinux_2_17_x86_64.manylinux2014_x86_64.whl (14.0 MB)\n",
            "\u001b[K     |████████████████████████████████| 14.0 MB 53.5 MB/s \n",
            "\u001b[?25hRequirement already satisfied: opencv-python>=4.5 in /usr/local/lib/python3.8/dist-packages (from pdf2docx) (4.6.0.66)\n",
            "Collecting python-docx>=0.8.10\n",
            "  Downloading python-docx-0.8.11.tar.gz (5.6 MB)\n",
            "\u001b[K     |████████████████████████████████| 5.6 MB 52.2 MB/s \n",
            "\u001b[?25hRequirement already satisfied: six in /usr/local/lib/python3.8/dist-packages (from fire>=0.3.0->pdf2docx) (1.15.0)\n",
            "Requirement already satisfied: termcolor in /usr/local/lib/python3.8/dist-packages (from fire>=0.3.0->pdf2docx) (2.1.1)\n",
            "Requirement already satisfied: lxml>=2.3.2 in /usr/local/lib/python3.8/dist-packages (from python-docx>=0.8.10->pdf2docx) (4.9.2)\n",
            "Building wheels for collected packages: fire, python-docx\n",
            "  Building wheel for fire (setup.py) ... \u001b[?25l\u001b[?25hdone\n",
            "  Created wheel for fire: filename=fire-0.5.0-py2.py3-none-any.whl size=116949 sha256=057baf159a2b546887df74fe79b315cae9bf6d6568e37c77a4a0abca5c56f5e1\n",
            "  Stored in directory: /root/.cache/pip/wheels/5b/eb/43/7295e71293b218ddfd627f935229bf54af9018add7fbb5aac6\n",
            "  Building wheel for python-docx (setup.py) ... \u001b[?25l\u001b[?25hdone\n",
            "  Created wheel for python-docx: filename=python_docx-0.8.11-py3-none-any.whl size=184505 sha256=16fabf9568d82e02d1a01ede2731701cb77a83df8425fafadef87f1c99591e56\n",
            "  Stored in directory: /root/.cache/pip/wheels/32/b8/b2/c4c2b95765e615fe139b0b17b5ea7c0e1b6519b0a9ec8fb34d\n",
            "Successfully built fire python-docx\n",
            "Installing collected packages: python-docx, PyMuPDF, fonttools, fire, pdf2docx\n",
            "Successfully installed PyMuPDF-1.21.1 fire-0.5.0 fonttools-4.38.0 pdf2docx-0.5.6 python-docx-0.8.11\n"
          ]
        }
      ]
    },
    {
      "cell_type": "code",
      "source": [
        "from google.colab import drive\n",
        "drive.mount('/content/drive')"
      ],
      "metadata": {
        "colab": {
          "base_uri": "https://localhost:8080/"
        },
        "id": "1h3AB9S07QhN",
        "outputId": "145a973f-4878-400a-a6aa-d4904d33ba88"
      },
      "execution_count": 4,
      "outputs": [
        {
          "output_type": "stream",
          "name": "stdout",
          "text": [
            "Mounted at /content/drive\n"
          ]
        }
      ]
    },
    {
      "cell_type": "code",
      "execution_count": 7,
      "metadata": {
        "colab": {
          "base_uri": "https://localhost:8080/"
        },
        "id": "d2eKpbim006j",
        "outputId": "48adab3d-26c5-48b5-a297-15ae244a97e8"
      },
      "outputs": [
        {
          "output_type": "stream",
          "name": "stderr",
          "text": [
            "WARNING:root:Ignore Line \"<image>\" due to overlap\n",
            "WARNING:root:Ignore Line \"<image>\" due to overlap\n",
            "WARNING:root:Ignore Line \"<image>\" due to overlap\n",
            "WARNING:root:Ignore Line \"<image>\" due to overlap\n",
            "WARNING:root:Ignore Line \"<image>\" due to overlap\n",
            "WARNING:root:Ignore Line \"<image>\" due to overlap\n",
            "WARNING:root:Ignore Line \"<image>\" due to overlap\n",
            "WARNING:root:Ignore Line \"<image>\" due to overlap\n",
            "WARNING:root:Ignore Line \"<image>\" due to overlap\n",
            "WARNING:root:Ignore Line \"<image>\" due to overlap\n",
            "WARNING:root:Ignore Line \"<image>\" due to overlap\n",
            "WARNING:root:Ignore Line \"<image>\" due to overlap\n",
            "WARNING:root:Ignore Line \"<image>\" due to overlap\n",
            "WARNING:root:Ignore Line \"<image>\" due to overlap\n",
            "WARNING:root:Ignore Line \"<image>\" due to overlap\n",
            "WARNING:root:Ignore Line \"<image>\" due to overlap\n",
            "WARNING:root:Ignore Line \"<image>\" due to overlap\n",
            "WARNING:root:Ignore Line \"<image>\" due to overlap\n",
            "WARNING:root:Ignore Line \"<image>\" due to overlap\n",
            "WARNING:root:Ignore Line \"<image>\" due to overlap\n",
            "WARNING:root:Ignore Line \"<image>\" due to overlap\n",
            "WARNING:root:Ignore Line \"<image>\" due to overlap\n",
            "WARNING:root:Ignore Line \"<image>\" due to overlap\n",
            "WARNING:root:Ignore Line \"<image>\" due to overlap\n",
            "WARNING:root:Ignore Line \"<image>\" due to overlap\n",
            "WARNING:root:Ignore Line \"<image>\" due to overlap\n",
            "WARNING:root:Ignore Line \"<image>\" due to overlap\n",
            "WARNING:root:Ignore Line \"<image>\" due to overlap\n",
            "WARNING:root:Ignore Line \"<image>\" due to overlap\n",
            "WARNING:root:Ignore Line \"<image>\" due to overlap\n",
            "WARNING:root:Ignore Line \"<image>\" due to overlap\n",
            "WARNING:root:Ignore Line \"<image>\" due to overlap\n",
            "WARNING:root:Ignore Line \"<image>\" due to overlap\n",
            "WARNING:root:Ignore Line \"<image>\" due to overlap\n",
            "WARNING:root:Ignore Line \"<image>\" due to overlap\n",
            "WARNING:root:Ignore Line \"<image>\" due to overlap\n",
            "WARNING:root:Ignore Line \"<image>\" due to overlap\n",
            "WARNING:root:Ignore Line \"<image>\" due to overlap\n"
          ]
        }
      ],
      "source": [
        "from pdf2docx import Converter\n",
        "pdf_file = \"/content/drive/My Drive/Colab Notebooks/BillForAccount.pdf\"\n",
        "docx_file = \"/content/drive/My Drive/Colab Notebooks/BillForAccount.docx\"\n",
        "cv = Converter(pdf_file)\n",
        "cv.convert(docx_file)\n",
        "cv.close()"
      ]
    }
  ]
}